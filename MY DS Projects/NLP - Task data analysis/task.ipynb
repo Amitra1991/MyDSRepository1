{
 "metadata": {
  "language_info": {
   "codemirror_mode": {
    "name": "ipython",
    "version": 3
   },
   "file_extension": ".py",
   "mimetype": "text/x-python",
   "name": "python",
   "nbconvert_exporter": "python",
   "pygments_lexer": "ipython3",
   "version": "3.7.3-final"
  },
  "orig_nbformat": 2,
  "kernelspec": {
   "name": "python_defaultSpec_1603683674141",
   "display_name": "Python 3.7.3 64-bit"
  }
 },
 "nbformat": 4,
 "nbformat_minor": 2,
 "cells": [
  {
   "cell_type": "code",
   "execution_count": 7,
   "metadata": {},
   "outputs": [],
   "source": [
    "import numpy as np\n",
    "import pandas as pd\n",
    "import matplotlib.pyplot as plt\n",
    "from matplotlib.pyplot import pie, axis, show\n",
    "%matplotlib inline \n",
    "import seaborn as sns\n",
    "sns.set(style='whitegrid', font_scale=1.3, color_codes=True)\n",
    "import warnings\n",
    "warnings.filterwarnings('ignore') "
   ]
  },
  {
   "cell_type": "code",
   "execution_count": 8,
   "metadata": {},
   "outputs": [
    {
     "output_type": "execute_result",
     "data": {
      "text/plain": "          Number            Assignment group  \\\n0  SCTASK0012533  COG - Service Desk Support   \n1  SCTASK0012508  COG - Service Desk Support   \n2  SCTASK0012486  COG - Service Desk Support   \n3  SCTASK0012485   COG - Application Support   \n4  SCTASK0012484  COG - Service Desk Support   \n\n                                   Short Description  \\\n0                  CFA - County Safeguarding Visitor   \n1  Can you kindly please renew the FA profiles fo...   \n2                                    Proactis Issues   \n3        Update Wildcats Lead Deliverer Requirements   \n4                               Add email to mailbox   \n\n     Business Justification / Additional Information  \n0  I need to be added to Hampshire FA as  CFA - C...  \n1  FA Profile including FA email, MS 365 account\\...  \n2  I am having issues with Proactis. Tom Ramsell ...  \n3  For Wildcats (only), please update the qualifi...  \n4  Please add Liam Crane <Liam.Crane2@thefa.com> ...  ",
      "text/html": "<div>\n<style scoped>\n    .dataframe tbody tr th:only-of-type {\n        vertical-align: middle;\n    }\n\n    .dataframe tbody tr th {\n        vertical-align: top;\n    }\n\n    .dataframe thead th {\n        text-align: right;\n    }\n</style>\n<table border=\"1\" class=\"dataframe\">\n  <thead>\n    <tr style=\"text-align: right;\">\n      <th></th>\n      <th>Number</th>\n      <th>Assignment group</th>\n      <th>Short Description</th>\n      <th>Business Justification / Additional Information</th>\n    </tr>\n  </thead>\n  <tbody>\n    <tr>\n      <th>0</th>\n      <td>SCTASK0012533</td>\n      <td>COG - Service Desk Support</td>\n      <td>CFA - County Safeguarding Visitor</td>\n      <td>I need to be added to Hampshire FA as  CFA - C...</td>\n    </tr>\n    <tr>\n      <th>1</th>\n      <td>SCTASK0012508</td>\n      <td>COG - Service Desk Support</td>\n      <td>Can you kindly please renew the FA profiles fo...</td>\n      <td>FA Profile including FA email, MS 365 account\\...</td>\n    </tr>\n    <tr>\n      <th>2</th>\n      <td>SCTASK0012486</td>\n      <td>COG - Service Desk Support</td>\n      <td>Proactis Issues</td>\n      <td>I am having issues with Proactis. Tom Ramsell ...</td>\n    </tr>\n    <tr>\n      <th>3</th>\n      <td>SCTASK0012485</td>\n      <td>COG - Application Support</td>\n      <td>Update Wildcats Lead Deliverer Requirements</td>\n      <td>For Wildcats (only), please update the qualifi...</td>\n    </tr>\n    <tr>\n      <th>4</th>\n      <td>SCTASK0012484</td>\n      <td>COG - Service Desk Support</td>\n      <td>Add email to mailbox</td>\n      <td>Please add Liam Crane &lt;Liam.Crane2@thefa.com&gt; ...</td>\n    </tr>\n  </tbody>\n</table>\n</div>"
     },
     "metadata": {},
     "execution_count": 8
    }
   ],
   "source": [
    "#df=pd.read_csv('sc_task.csv')\n",
    "df = pd.read_excel('sc_task.xlsx')\n",
    "df.head()"
   ]
  },
  {
   "cell_type": "code",
   "execution_count": 9,
   "metadata": {
    "tags": []
   },
   "outputs": [
    {
     "output_type": "stream",
     "name": "stdout",
     "text": "<class 'pandas.core.frame.DataFrame'>\nRangeIndex: 2148 entries, 0 to 2147\nData columns (total 4 columns):\nNumber                                             2148 non-null object\nAssignment group                                   2148 non-null object\nShort Description                                  2148 non-null object\nBusiness Justification / Additional Information    2146 non-null object\ndtypes: object(4)\nmemory usage: 67.2+ KB\n"
    }
   ],
   "source": [
    "df.info()"
   ]
  },
  {
   "cell_type": "code",
   "execution_count": 14,
   "metadata": {
    "tags": []
   },
   "outputs": [
    {
     "output_type": "stream",
     "name": "stdout",
     "text": "<class 'pandas.core.frame.DataFrame'>\nInt64Index: 2146 entries, 0 to 2147\nData columns (total 4 columns):\nNumber                                             2146 non-null object\nAssignment group                                   2146 non-null object\nShort Description                                  2146 non-null object\nBusiness Justification / Additional Information    2146 non-null object\ndtypes: object(4)\nmemory usage: 83.8+ KB\n"
    }
   ],
   "source": [
    "df.dropna().info()"
   ]
  }
 ]
}
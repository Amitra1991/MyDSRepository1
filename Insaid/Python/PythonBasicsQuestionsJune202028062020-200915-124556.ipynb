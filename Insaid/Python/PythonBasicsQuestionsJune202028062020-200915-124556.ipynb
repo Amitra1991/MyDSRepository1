{
 "cells": [
  {
   "cell_type": "markdown",
   "metadata": {},
   "source": [
    "<img src='https://www.insaid.co/wp-content/uploads/2018/04/INSAID_Logo-1.png' height=\"240\" width=\"360\"/>\n",
    "<br/>\n",
    "# Python basics"
   ]
  },
  {
   "cell_type": "markdown",
   "metadata": {
    "collapsed": true
   },
   "source": [
    "### 1.Write a Python program to print the following string\n",
    "\n",
    "Sample String: \"Welcome to <b>INSAID</b>- International School of AI and Data Science\"\n",
    "\n"
   ]
  },
  {
   "cell_type": "code",
   "execution_count": 1,
   "metadata": {},
   "outputs": [
    {
     "name": "stdout",
     "output_type": "stream",
     "text": [
      "Welcome to INSAID- International School of AI and Data Science\n"
     ]
    }
   ],
   "source": [
    "print(\"Welcome to INSAID- International School of AI and Data Science\")\n",
    "#for all the function we have to use () and not [] neither {}"
   ]
  },
  {
   "cell_type": "markdown",
   "metadata": {},
   "source": [
    "### 1.1 In a “Hello, World!” program, a comment may look like this:"
   ]
  },
  {
   "cell_type": "code",
   "execution_count": 2,
   "metadata": {},
   "outputs": [
    {
     "name": "stdout",
     "output_type": "stream",
     "text": [
      "Hello, World!\n"
     ]
    }
   ],
   "source": [
    "# Print “Hello, World!” to console\n",
    "print(\"Hello, World!\")"
   ]
  },
  {
   "cell_type": "code",
   "execution_count": 3,
   "metadata": {},
   "outputs": [
    {
     "name": "stdout",
     "output_type": "stream",
     "text": [
      "hammer\n",
      "white\n",
      "fish\n",
      "frilled\n",
      "bullhead\n",
      "requiem\n",
      "--------\n",
      "hammer\n",
      "white\n",
      "fish\n",
      "frilled\n",
      "bullhead\n",
      "requiem\n"
     ]
    }
   ],
   "source": [
    "# Define sharks variable as a list of strings ('hammer', 'white', 'fish', 'frilled', 'bullhead', 'requiem')\n",
    "sharks = ['hammer', 'white', 'fish', 'frilled', 'bullhead', 'requiem']\n",
    "\n",
    "# For loop that iterates over sharks list and prints each string item\n",
    "\n",
    "#print(sharks[2])\n",
    "\n",
    "for word in sharks: # start:go-til-but-do-not-include\n",
    "    print(word)\n",
    "\n",
    "print('--------')\n",
    "    \n",
    "for i in range(0,6):\n",
    "    print(sharks[i])"
   ]
  },
  {
   "cell_type": "markdown",
   "metadata": {},
   "source": [
    "### 2.Write a Python Program to Add Two Numbers"
   ]
  },
  {
   "cell_type": "code",
   "execution_count": 4,
   "metadata": {},
   "outputs": [
    {
     "name": "stdout",
     "output_type": "stream",
     "text": [
      "total ice cream eatern is 30\n"
     ]
    }
   ],
   "source": [
    "# initialise two varaibles\n",
    "p1 = 20\n",
    "p2 = 10\n",
    "\n",
    "# Add two numbers\n",
    "total = p1 + p2\n",
    "\n",
    "# Display the sum\n",
    "print('total ice cream eatern is', total)\n",
    "\n",
    "#later we might need this total\n"
   ]
  },
  {
   "cell_type": "markdown",
   "metadata": {},
   "source": [
    "### 3.Write a Python Program to Find the product of two numbers"
   ]
  },
  {
   "cell_type": "code",
   "execution_count": 5,
   "metadata": {},
   "outputs": [
    {
     "name": "stdout",
     "output_type": "stream",
     "text": [
      "product is 200\n",
      "total ice cream eatern is 30\n"
     ]
    }
   ],
   "source": [
    "n1 = 20\n",
    "n2 = 10\n",
    "\n",
    "product = n1 * n2\n",
    "\n",
    "print('product is', product)\n",
    "print('total ice cream eatern is', total)\n"
   ]
  },
  {
   "cell_type": "markdown",
   "metadata": {},
   "source": [
    "### 4.Write a python program to find the area of triangle given height and base of the triangle as 3 and 10."
   ]
  },
  {
   "cell_type": "code",
   "execution_count": 6,
   "metadata": {},
   "outputs": [
    {
     "name": "stdout",
     "output_type": "stream",
     "text": [
      "the area of the triangle is 15.0\n"
     ]
    }
   ],
   "source": [
    "# Area of the triangle A= 1/2(base * height)\n",
    "\n",
    "height = 3\n",
    "base = 10\n",
    "\n",
    "area = 0.5 * base * height\n",
    "\n",
    "#given height=3 and base =10\n",
    "print('the area of the triangle is {}'.format(area))\n"
   ]
  },
  {
   "cell_type": "markdown",
   "metadata": {},
   "source": [
    "### 5.Python Program to Swap Two Variables"
   ]
  },
  {
   "cell_type": "code",
   "execution_count": 7,
   "metadata": {},
   "outputs": [
    {
     "name": "stdout",
     "output_type": "stream",
     "text": [
      "a =  15 b = 10\n",
      "a = 15 b = 10\n"
     ]
    }
   ],
   "source": [
    "# initialise two varaibles\n",
    "\n",
    "a = 10\n",
    "b = 15\n",
    "\n",
    "temp = a\n",
    "a = b\n",
    "b = temp\n",
    "\n",
    "\n",
    "# create a temporary variable and swap the values\n",
    "\n",
    "print('a = ', a, 'b =',b)\n",
    "\n",
    "print('a = {} b = {}'.format(a,b)) #{} - something will come in place here\n"
   ]
  },
  {
   "cell_type": "markdown",
   "metadata": {},
   "source": [
    "## Section"
   ]
  },
  {
   "cell_type": "markdown",
   "metadata": {
    "collapsed": true
   },
   "source": [
    "### 1.Write a python program to print datatype of a varaible"
   ]
  },
  {
   "cell_type": "code",
   "execution_count": 8,
   "metadata": {},
   "outputs": [
    {
     "name": "stdout",
     "output_type": "stream",
     "text": [
      "datatype of a is <class 'int'>\n",
      "datatype of b is <class 'float'>\n",
      "datatype of c is <class 'complex'>\n"
     ]
    }
   ],
   "source": [
    "a = 1\n",
    "print('datatype of a is {}'.format(type(a)))\n",
    "\n",
    "b = 2.0\n",
    "print('datatype of b is', type(b))\n",
    "\n",
    "c = 1+2j #iota = sqrt(-1) - j\n",
    "print('datatype of c is', type(c))"
   ]
  },
  {
   "cell_type": "markdown",
   "metadata": {},
   "source": [
    "### 2.Write a python program to extract an item or a range of items from a list.\n",
    "\n"
   ]
  },
  {
   "cell_type": "code",
   "execution_count": 9,
   "metadata": {},
   "outputs": [
    {
     "name": "stdout",
     "output_type": "stream",
     "text": [
      "35\n",
      "[15, 20, 35]\n",
      "[30, 35, 60]\n",
      "[15, 20, 35, 40, 45, 30]\n"
     ]
    }
   ],
   "source": [
    "a = [15,20,35,40,45,30,35,60]\n",
    "\n",
    "# Print the item at index 2\n",
    "print(a[2])\n",
    "\n",
    "# Print the first 3 items\n",
    "print(a[0:3])\n",
    "\n",
    "# Print the last 3 items\n",
    "print(a[-3:])\n",
    "\n",
    "# Start to third last item\n",
    "print(a[:-2])"
   ]
  },
  {
   "cell_type": "markdown",
   "metadata": {},
   "source": [
    "### 3.Converting Floats to Integers\n"
   ]
  },
  {
   "cell_type": "code",
   "execution_count": 10,
   "metadata": {},
   "outputs": [
    {
     "name": "stdout",
     "output_type": "stream",
     "text": [
      "125\n",
      "390\n"
     ]
    }
   ],
   "source": [
    "b = 125.0\n",
    "c = 390.8\n",
    "\n",
    "# Print the Integer values\n",
    "\n",
    "print(int(b))\n",
    "print(int(c))\n"
   ]
  },
  {
   "cell_type": "markdown",
   "metadata": {},
   "source": [
    "### 4.Converting Numbers to Strings"
   ]
  },
  {
   "cell_type": "code",
   "execution_count": 11,
   "metadata": {
    "scrolled": true
   },
   "outputs": [
    {
     "data": {
      "text/plain": [
       "'10'"
      ]
     },
     "execution_count": 11,
     "metadata": {},
     "output_type": "execute_result"
    }
   ],
   "source": [
    "a = 10\n",
    "\n",
    "#print(a, \"is of type\", type(a))\n",
    "\n",
    "# Convert the value in a to a string and then print\n",
    "\n",
    "value = str(a)\n",
    "\n",
    "#print(value, \"is of type\", type(value))\n",
    "\n",
    "value"
   ]
  },
  {
   "cell_type": "markdown",
   "metadata": {},
   "source": [
    "### 5.Converting Strings to Numbers"
   ]
  },
  {
   "cell_type": "code",
   "execution_count": 85,
   "metadata": {},
   "outputs": [
    {
     "name": "stdout",
     "output_type": "stream",
     "text": [
      "50 108\n"
     ]
    }
   ],
   "source": [
    "a = \"50\"\n",
    "b = \"108\"\n",
    "\n",
    "# Find the difference between a and b\n",
    "\n",
    "\n",
    "print(int(a), int(b))"
   ]
  },
  {
   "cell_type": "markdown",
   "metadata": {},
   "source": [
    "### 6.Converting list to Tuples"
   ]
  },
  {
   "cell_type": "code",
   "execution_count": 12,
   "metadata": {},
   "outputs": [
    {
     "name": "stdout",
     "output_type": "stream",
     "text": [
      "['request', 'source', 'repository', 'branch']\n",
      "('request', 'source', 'repository', 'branch')\n"
     ]
    }
   ],
   "source": [
    "myList = ['request', 'source', 'repository', 'branch']\n",
    "\n",
    "print(myList)\n",
    "print(tuple(myList))\n",
    "\n",
    "# Print myList to a Tuple"
   ]
  },
  {
   "cell_type": "markdown",
   "metadata": {},
   "source": [
    "### 7.Converting tuple to Lists"
   ]
  },
  {
   "cell_type": "code",
   "execution_count": 13,
   "metadata": {},
   "outputs": [
    {
     "name": "stdout",
     "output_type": "stream",
     "text": [
      "['blue', 'red', 'white']\n"
     ]
    }
   ],
   "source": [
    "myTuple = ('blue', 'red', 'white')\n",
    "\n",
    "print(list(myTuple))\n",
    "# Print myTuple to a List"
   ]
  },
  {
   "cell_type": "markdown",
   "metadata": {
    "collapsed": true
   },
   "source": [
    "### 8.converting strings to lists:"
   ]
  },
  {
   "cell_type": "code",
   "execution_count": 14,
   "metadata": {},
   "outputs": [
    {
     "name": "stdout",
     "output_type": "stream",
     "text": [
      "['I', 'N', 'S', 'A', 'I', 'D']\n"
     ]
    }
   ],
   "source": [
    "myString = 'INSAID'\n",
    "\n",
    "# Convert myString to List\n",
    "print(list(myString))"
   ]
  },
  {
   "cell_type": "markdown",
   "metadata": {},
   "source": [
    "### 9.Assign different data types to a varibles"
   ]
  },
  {
   "cell_type": "code",
   "execution_count": 15,
   "metadata": {},
   "outputs": [],
   "source": [
    "# Try string, float, boolean, list, tuple, dictionary\n",
    "\n",
    "string = 'we are in a python class'\n",
    "my_float = 45.96\n",
    "my_bool = 9>5\n",
    "my_list = [1,2,3] \n",
    "my_tuple = (1,2,3)\n",
    "my_dict = {1:25, 2:6, 'india': 5}"
   ]
  },
  {
   "cell_type": "code",
   "execution_count": 16,
   "metadata": {},
   "outputs": [
    {
     "data": {
      "text/plain": [
       "5"
      ]
     },
     "execution_count": 16,
     "metadata": {},
     "output_type": "execute_result"
    }
   ],
   "source": [
    "my_dict['india']"
   ]
  },
  {
   "cell_type": "markdown",
   "metadata": {},
   "source": [
    "## Section"
   ]
  },
  {
   "cell_type": "markdown",
   "metadata": {
    "collapsed": true
   },
   "source": [
    "### Print out a string that uses a formatter"
   ]
  },
  {
   "cell_type": "code",
   "execution_count": 16,
   "metadata": {},
   "outputs": [
    {
     "name": "stdout",
     "output_type": "stream",
     "text": [
      "John has 5 cars\n"
     ]
    }
   ],
   "source": [
    "# Print \"john has 5 cars.\" using formatter\n",
    "\n",
    "name = 'John'\n",
    "number = 5\n",
    "\n",
    "print('{} has {} cars'.format(name, number))"
   ]
  },
  {
   "cell_type": "markdown",
   "metadata": {},
   "source": [
    "### We can also assign a variable to be equal to the value of a string that has formatter placeholders:"
   ]
  },
  {
   "cell_type": "code",
   "execution_count": 21,
   "metadata": {},
   "outputs": [
    {
     "name": "stdout",
     "output_type": "stream",
     "text": [
      "john likes open source.\n",
      "john likes open source.\n",
      "john likes open source.\n",
      "john likes open source.\n"
     ]
    }
   ],
   "source": [
    "open_string = \"john likes {}.\"\n",
    "abcd = 'open source'\n",
    "\n",
    "# Use format method to print the following output \"john likes open source.\"\n",
    "\n",
    "print(open_string.format(abcd))\n",
    "\n",
    "print(open_string.format('open source'))\n",
    "\n",
    "print(\"john likes {}.\".format('open source'))\n",
    "\n",
    "print(\"john likes open source.\")"
   ]
  },
  {
   "cell_type": "markdown",
   "metadata": {},
   "source": [
    "### Using Formatters with Multiple Placeholders"
   ]
  },
  {
   "cell_type": "code",
   "execution_count": 22,
   "metadata": {},
   "outputs": [
    {
     "name": "stdout",
     "output_type": "stream",
     "text": [
      "john likes open-source software.\n"
     ]
    }
   ],
   "source": [
    "new_open_string = \"john likes {} {}.\"                      #2 {} placeholders\n",
    "# Pass 2 strings into format method, separated by a comma to get output \"john likes open-source software.\"\n",
    "\n",
    "print(new_open_string.format('open-source', 'software'))"
   ]
  },
  {
   "cell_type": "code",
   "execution_count": null,
   "metadata": {},
   "outputs": [],
   "source": [
    "sammy_string = \"john loves {} {}, and has {} {}.\"                      #4 {} placeholders\n",
    "# Pass 4 strings into method to get output \"john loves open-source software, and has 5 balloons.\""
   ]
  },
  {
   "cell_type": "markdown",
   "metadata": {},
   "source": [
    "### Reordering Formatters with Positional and Keyword Arguments\n"
   ]
  },
  {
   "cell_type": "code",
   "execution_count": 23,
   "metadata": {},
   "outputs": [
    {
     "name": "stdout",
     "output_type": "stream",
     "text": [
      "john the shark has a pet pilot fish!\n"
     ]
    }
   ],
   "source": [
    "# Reference sample\n",
    "print(\"john the {} has a pet {}!\".format(\"shark\", \"pilot fish\"))\n",
    "\n",
    "#\"\" and '' - 'deepesh said \"hi!\"'"
   ]
  },
  {
   "cell_type": "markdown",
   "metadata": {},
   "source": [
    "### We can pass these index numbers into the curly braces that serve as the placeholders in the original string:"
   ]
  },
  {
   "cell_type": "code",
   "execution_count": null,
   "metadata": {},
   "outputs": [],
   "source": [
    "# Reference Sample\n",
    "print(\"john the {0} has a pet {1}!\".format(\"shark\", \"pilot fish\"))\n",
    "\n",
    "print(\"john is a {}, {}, and {} {}!\".format(\"happy\", \"smiling\", \"blue\", \"shark\"))\n",
    "\n",
    "#method is some function prebuilt for that kind of variable. \n",
    "format(text, values)"
   ]
  },
  {
   "cell_type": "code",
   "execution_count": 29,
   "metadata": {},
   "outputs": [
    {
     "name": "stdout",
     "output_type": "stream",
     "text": [
      "My name is Nirmal Panda. I stay in Delhi\n"
     ]
    }
   ],
   "source": [
    "print(\"My name is {1} {0}. I stay in {2}\".format(\"Panda\",\"Nirmal\",\"Delhi\"))"
   ]
  },
  {
   "cell_type": "markdown",
   "metadata": {},
   "source": [
    "### Python Program to Get String Input from User\n"
   ]
  },
  {
   "cell_type": "code",
   "execution_count": 31,
   "metadata": {},
   "outputs": [
    {
     "name": "stdout",
     "output_type": "stream",
     "text": [
      "the string: i am in a python class\n",
      "i am in a python class\n"
     ]
    }
   ],
   "source": [
    "#Enter any string and print it\n",
    "\n",
    "inputstring = input('the string: ')\n",
    "\n",
    "print(inputstring)"
   ]
  },
  {
   "cell_type": "code",
   "execution_count": 33,
   "metadata": {},
   "outputs": [
    {
     "name": "stdout",
     "output_type": "stream",
     "text": [
      "Input a number: 2\n",
      "4\n"
     ]
    }
   ],
   "source": [
    "value = int(input('Input a number: '))\n",
    "\n",
    "print(value*2)"
   ]
  },
  {
   "cell_type": "markdown",
   "metadata": {
    "collapsed": true
   },
   "source": [
    "### Python program for conditional statements\n",
    "\n",
    "### 1)If the student receives over 65% on her test, report that her grade passes; if not, report that her grade fails"
   ]
  },
  {
   "cell_type": "code",
   "execution_count": 6,
   "metadata": {},
   "outputs": [
    {
     "name": "stdout",
     "output_type": "stream",
     "text": [
      "Input your score: 65.0001\n",
      "Pass\n"
     ]
    }
   ],
   "source": [
    "#grade = 70\n",
    "\n",
    "#if conditions\n",
    "\n",
    "# if <condition>:\n",
    "#     <what you want to do>\n",
    "#else:\n",
    "#     <do this>\n",
    "\n",
    "grade = float(input('Input your score: '))\n",
    "\n",
    "if grade>=65:\n",
    "    status = 'Pass'\n",
    "else:\n",
    "    status = 'Fail'\n",
    "\n",
    "print(status)\n"
   ]
  },
  {
   "cell_type": "code",
   "execution_count": null,
   "metadata": {},
   "outputs": [],
   "source": [
    "# Use only if\n",
    "grade = 60\n",
    "\n"
   ]
  },
  {
   "cell_type": "markdown",
   "metadata": {},
   "source": [
    "### Write a python program calculate whether a bank account balance is below 0 and print appropriate message."
   ]
  },
  {
   "cell_type": "code",
   "execution_count": 8,
   "metadata": {},
   "outputs": [
    {
     "name": "stdout",
     "output_type": "stream",
     "text": [
      "please go ahead\n"
     ]
    }
   ],
   "source": [
    "# Use if else\n",
    "balance = 522\n",
    "\n",
    "if balance<=0:\n",
    "    print('insufficient balance')\n",
    "else:\n",
    "    print('please go ahead')\n"
   ]
  },
  {
   "cell_type": "markdown",
   "metadata": {},
   "source": [
    "### Using Else if statement"
   ]
  },
  {
   "cell_type": "code",
   "execution_count": 13,
   "metadata": {},
   "outputs": [
    {
     "name": "stdout",
     "output_type": "stream",
     "text": [
      "get more money\n"
     ]
    }
   ],
   "source": [
    "balance = 40\n",
    "\n",
    "if balance<=0:\n",
    "    print('insufficient balance')\n",
    "elif balance<=50:\n",
    "    print('get more money')\n",
    "elif balance<=100:\n",
    "    print('you are rich')\n",
    "else:\n",
    "    print('you are very rich')"
   ]
  },
  {
   "cell_type": "code",
   "execution_count": 15,
   "metadata": {},
   "outputs": [
    {
     "name": "stdout",
     "output_type": "stream",
     "text": [
      "get more money\n"
     ]
    }
   ],
   "source": [
    "balance = 40\n",
    "if balance <=0:\n",
    "    print(\"insufficient balance\")\n",
    "elif balance<50:\n",
    "    print(\"get more money\")\n",
    "elif balance<=100:\n",
    "    print(\"you are rich\")\n",
    "else:\n",
    "    print(\"you are very rich\")\n"
   ]
  },
  {
   "cell_type": "markdown",
   "metadata": {},
   "source": [
    "### Python program to print  Fibonacci series between 0 to 50."
   ]
  },
  {
   "cell_type": "code",
   "execution_count": 33,
   "metadata": {},
   "outputs": [
    {
     "name": "stdout",
     "output_type": "stream",
     "text": [
      "1 , 0\n",
      "2 , 1\n",
      "3 , 1\n",
      "4 , 2\n",
      "5 , 3\n",
      "6 , 5\n",
      "7 , 8\n",
      "8 , 13\n",
      "9 , 21\n",
      "10 , 34\n"
     ]
    }
   ],
   "source": [
    "#0,1,1,2,3,5,8....\n",
    "\n",
    "a=0\n",
    "b=1\n",
    "print(1, ',', a)\n",
    "print(2,',',  b)\n",
    "\n",
    "for i in range(0,48):\n",
    "    new = a+b\n",
    "    if new<50:\n",
    "        print(i+3,',',new)\n",
    "        a=b\n",
    "        b=new\n",
    "    else:\n",
    "        break"
   ]
  },
  {
   "cell_type": "code",
   "execution_count": 30,
   "metadata": {},
   "outputs": [
    {
     "name": "stdout",
     "output_type": "stream",
     "text": [
      "[0, 1]\n",
      "[0, 1, 1]\n",
      "[0, 1, 1, 2]\n",
      "[0, 1, 1, 2, 3]\n",
      "[0, 1, 1, 2, 3, 5]\n",
      "[0, 1, 1, 2, 3, 5, 8]\n",
      "[0, 1, 1, 2, 3, 5, 8, 13]\n",
      "[0, 1, 1, 2, 3, 5, 8, 13, 21]\n",
      "[0, 1, 1, 2, 3, 5, 8, 13, 21, 34]\n",
      "[0, 1, 1, 2, 3, 5, 8, 13, 21, 34]\n"
     ]
    }
   ],
   "source": [
    "a=0\n",
    "b=1\n",
    "fib=list()\n",
    "\n",
    "fib.append(a)\n",
    "fib.append(b)\n",
    "\n",
    "for i in range(0,48):\n",
    "    print(fib)\n",
    "    a = fib[-2]\n",
    "    b = fib[-1]\n",
    "    new = a+b\n",
    "    if new<50:\n",
    "        fib.append(new)\n",
    "    else: break\n",
    "    \n",
    "print(fib)\n"
   ]
  },
  {
   "cell_type": "markdown",
   "metadata": {},
   "source": [
    "### Python program to find numbers which are divisible by 7 and multiple of 5 between a range 150 to 270"
   ]
  },
  {
   "cell_type": "code",
   "execution_count": 37,
   "metadata": {},
   "outputs": [
    {
     "name": "stdout",
     "output_type": "stream",
     "text": [
      "175\n",
      "210\n",
      "245\n"
     ]
    }
   ],
   "source": [
    "for i in range(150, 271):\n",
    "    if i%7 == 0 and i%5 == 0:\n",
    "        print(i)"
   ]
  },
  {
   "cell_type": "code",
   "execution_count": 35,
   "metadata": {},
   "outputs": [
    {
     "name": "stdout",
     "output_type": "stream",
     "text": [
      "175\n",
      "210\n",
      "245\n"
     ]
    }
   ],
   "source": [
    "for i in range(150, 271):\n",
    "    if i%35 == 0:\n",
    "        print(i)"
   ]
  },
  {
   "cell_type": "markdown",
   "metadata": {},
   "source": [
    "### Python program to Sum all the items in a list"
   ]
  },
  {
   "cell_type": "code",
   "execution_count": 43,
   "metadata": {},
   "outputs": [
    {
     "name": "stdout",
     "output_type": "stream",
     "text": [
      "74\n"
     ]
    }
   ],
   "source": [
    "def sum_list(items):\n",
    "    sum_number=0\n",
    "    for i in items:\n",
    "        sum_number = sum_number + i\n",
    "    #print(sum_number)\n",
    "    return sum_number\n",
    "\n",
    "print(sum_list([20,12,20,22]))\n",
    "\n",
    "#sum_list([20,12,20,22])"
   ]
  },
  {
   "cell_type": "markdown",
   "metadata": {},
   "source": [
    "### Python program to Remove duplicates from a list."
   ]
  },
  {
   "cell_type": "code",
   "execution_count": 56,
   "metadata": {},
   "outputs": [
    {
     "name": "stdout",
     "output_type": "stream",
     "text": [
      "[10, 20, 30, 40, 50, 60, 70, 80]\n"
     ]
    }
   ],
   "source": [
    "a = [10,20,30,40,50,60,70,40,80,50,40]\n",
    "\n",
    "dup = set()\n",
    "unique = []\n",
    "\n",
    "for i in a:\n",
    "    if i not in dup:\n",
    "        unique.append(i)\n",
    "        dup.add(i)\n",
    "        \n",
    "print(unique)\n",
    "\n"
   ]
  },
  {
   "cell_type": "code",
   "execution_count": 59,
   "metadata": {},
   "outputs": [
    {
     "name": "stdout",
     "output_type": "stream",
     "text": [
      "[10, 20, 30, 40, 50, 60, 70, 80]\n"
     ]
    }
   ],
   "source": [
    "a = sorted(list(set(a)))\n",
    "print(a)"
   ]
  },
  {
   "cell_type": "markdown",
   "metadata": {},
   "source": [
    "### Python program to Get the largest number from a list."
   ]
  },
  {
   "cell_type": "code",
   "execution_count": 60,
   "metadata": {},
   "outputs": [
    {
     "name": "stdout",
     "output_type": "stream",
     "text": [
      "28\n"
     ]
    }
   ],
   "source": [
    "def max_num_in_list( list ):\n",
    "    largest = 0\n",
    "    for i in list:\n",
    "        if i>largest:\n",
    "            largest = i\n",
    "    return largest\n",
    "\n",
    "print(max_num_in_list([1, 12, 28, 0]))"
   ]
  },
  {
   "cell_type": "markdown",
   "metadata": {},
   "source": [
    "### Concatenation of Tuples."
   ]
  },
  {
   "cell_type": "code",
   "execution_count": 61,
   "metadata": {},
   "outputs": [
    {
     "name": "stdout",
     "output_type": "stream",
     "text": [
      "(0, 1, 2, 3, 'python', 'code')\n"
     ]
    }
   ],
   "source": [
    "# Code for concatenating 2 tuples\n",
    " \n",
    "tuple1 = (0, 1, 2, 3)\n",
    "tuple2 = ('python', 'code')\n",
    " \n",
    "# Concatenating above two\n",
    "print(tuple1 + tuple2)"
   ]
  },
  {
   "cell_type": "markdown",
   "metadata": {},
   "source": [
    "### Nesting of Tuples."
   ]
  },
  {
   "cell_type": "code",
   "execution_count": 62,
   "metadata": {},
   "outputs": [
    {
     "name": "stdout",
     "output_type": "stream",
     "text": [
      "((0, 1, 2, 3), ('python', 'code'))\n"
     ]
    }
   ],
   "source": [
    "# Code for creating nested tuples\n",
    " \n",
    "tuple1 = (0, 1, 2, 3)\n",
    "tuple2 = ('python', 'code')\n",
    "tuple3 = (tuple1, tuple2)\n",
    "print(tuple3)\n"
   ]
  },
  {
   "cell_type": "markdown",
   "metadata": {},
   "source": [
    "### Write a Python program to add an item in a tuple."
   ]
  },
  {
   "cell_type": "code",
   "execution_count": 69,
   "metadata": {},
   "outputs": [
    {
     "name": "stdout",
     "output_type": "stream",
     "text": [
      "(1, 3, 5, 7, 9)\n",
      "(1, 3, 5, 7, 9, 11, 13, 15)\n"
     ]
    }
   ],
   "source": [
    "# Create a tuple & print\n",
    "\n",
    "tuplex = (1,3,5,7,9)\n",
    "print(tuplex)\n",
    "\n",
    "#tuples are immutable, so you can not add new elements\n",
    "#using merge of tuples with the + operator you can add an element and it will create a new tuple\n",
    "\n",
    "tuplex= tuplex[:5] + (11,13,15)\n",
    "print(tuplex)\n",
    "# Adding items in a specific index\n"
   ]
  },
  {
   "cell_type": "markdown",
   "metadata": {},
   "source": [
    "### Write a Python program to remove an item from a tuple."
   ]
  },
  {
   "cell_type": "code",
   "execution_count": 73,
   "metadata": {},
   "outputs": [
    {
     "name": "stdout",
     "output_type": "stream",
     "text": [
      "('i', 'n', 'd', 'i', 'a')\n",
      "('n', 'd', 'a')\n"
     ]
    }
   ],
   "source": [
    "# Create a tuple and print it\n",
    "tuplex = ('i','n','d','i','a')\n",
    "print(tuplex)\n",
    "# Find a way to remove an item of the tuple (Hint: Use other data types)\n",
    "listx = list(tuplex)\n",
    "listx.remove('i')\n",
    "listx.remove('i')\n",
    "tuplex = tuple(listx)\n",
    "print(tuplex)"
   ]
  },
  {
   "cell_type": "markdown",
   "metadata": {},
   "source": [
    "### Python Program to Check if a given key already exists in a dictionary."
   ]
  },
  {
   "cell_type": "code",
   "execution_count": 77,
   "metadata": {},
   "outputs": [
    {
     "name": "stdout",
     "output_type": "stream",
     "text": [
      "Key 5 is present\n",
      "key 9 is absent\n"
     ]
    }
   ],
   "source": [
    "d = {1: 10, 2: 20, 3: 30, 4: 40, 5: 50, 6: 60}\n",
    "\n",
    "def is_key_present(x):\n",
    "  if x in d:\n",
    "    print('Key {} is present'.format(x))\n",
    "  else:\n",
    "    print('key {} is absent'.format(x))\n",
    "\n",
    "is_key_present(5)\n",
    "is_key_present(9)"
   ]
  },
  {
   "cell_type": "markdown",
   "metadata": {},
   "source": [
    "### Write a Python script to merge two Python dictionaries."
   ]
  },
  {
   "cell_type": "code",
   "execution_count": 78,
   "metadata": {},
   "outputs": [
    {
     "name": "stdout",
     "output_type": "stream",
     "text": [
      "{'x': 300, 'y': 200, 'a': 100, 'b': 200}\n"
     ]
    }
   ],
   "source": [
    "d1 = {'a': 100, 'b': 200}\n",
    "d2 = {'x': 300, 'y': 200}\n",
    "\n",
    "d2.update(d1)\n",
    "print(d2)"
   ]
  },
  {
   "cell_type": "markdown",
   "metadata": {},
   "source": [
    "### Write a Python function to find the Max of three numbers."
   ]
  },
  {
   "cell_type": "code",
   "execution_count": 79,
   "metadata": {},
   "outputs": [
    {
     "name": "stdout",
     "output_type": "stream",
     "text": [
      "26\n"
     ]
    }
   ],
   "source": [
    "def max_of_two( x, y ):\n",
    "    if x>y:\n",
    "        return x\n",
    "    else: return y\n",
    "\n",
    "def max_of_three( x, y, z ):\n",
    "    return max_of_two(x,max_of_two(y,z))\n",
    "\n",
    "\n",
    "print(max_of_three(13, 26, -5))"
   ]
  },
  {
   "cell_type": "markdown",
   "metadata": {
    "collapsed": true
   },
   "source": [
    "### Write a Python program to reverse a string."
   ]
  },
  {
   "cell_type": "code",
   "execution_count": 80,
   "metadata": {},
   "outputs": [
    {
     "name": "stdout",
     "output_type": "stream",
     "text": [
      "DIASNI\n"
     ]
    }
   ],
   "source": [
    "def string_reverse(str1):\n",
    "    \n",
    "    rstring = ''\n",
    "    index = len(str1) # 6\n",
    "    \n",
    "    while index>0:\n",
    "        rstring = rstring + str1[index-1]\n",
    "        index = index - 1 \n",
    "    return rstring\n",
    "print(string_reverse('INSAID'))\n",
    "\n",
    "\n",
    "#insaid\n",
    "#diasni"
   ]
  },
  {
   "cell_type": "markdown",
   "metadata": {
    "collapsed": true
   },
   "source": [
    "### Write a Python function to calculate the factorial of a number "
   ]
  },
  {
   "cell_type": "code",
   "execution_count": null,
   "metadata": {},
   "outputs": [],
   "source": [
    "def factorial(n):\n",
    "    # Your code here\n",
    "    return # The answer\n",
    "n=int(input(\"Input a number to compute the factiorial : \"))\n",
    "print(factorial(n))"
   ]
  },
  {
   "cell_type": "markdown",
   "metadata": {},
   "source": [
    "### Write a Python function to sum all the numbers in a list."
   ]
  },
  {
   "cell_type": "code",
   "execution_count": null,
   "metadata": {},
   "outputs": [],
   "source": [
    "def sum(numbers):\n",
    "    # Your code goes here\n",
    "    return # Your Answer\n",
    "print(sum((8, 2, 3, 0, 7)))"
   ]
  },
  {
   "cell_type": "markdown",
   "metadata": {
    "collapsed": true
   },
   "source": [
    "### Write a Python function to check whether a number is in a given range."
   ]
  },
  {
   "cell_type": "code",
   "execution_count": null,
   "metadata": {},
   "outputs": [],
   "source": [
    "def test_range(n):\n",
    "    # Your code\n",
    "    return # Your answer \n",
    "test_range(5)"
   ]
  },
  {
   "cell_type": "markdown",
   "metadata": {},
   "source": [
    "### Find the value of pi using math module."
   ]
  },
  {
   "cell_type": "code",
   "execution_count": null,
   "metadata": {},
   "outputs": [],
   "source": [
    "# import statement example\n",
    "# to import standard module math\n",
    "\n",
    "import math\n"
   ]
  },
  {
   "cell_type": "markdown",
   "metadata": {},
   "source": [
    "### Write a Python program to read an entire text file.\n",
    "\n",
    "### Content of text.txt.\n",
    "\n",
    "### What is Python language?      \n",
    "\n",
    "#### Python is a widely used high-level, general-purpose, interpreted, dynamic programming language."
   ]
  },
  {
   "cell_type": "code",
   "execution_count": null,
   "metadata": {},
   "outputs": [],
   "source": [
    "def file_read(fname):\n",
    "    # Your code goes in here\n",
    "    return\n",
    "\n",
    "file_read('test.txt')"
   ]
  },
  {
   "cell_type": "markdown",
   "metadata": {
    "collapsed": true
   },
   "source": [
    "### Write a Python program to read a file line by line and store it into a list."
   ]
  },
  {
   "cell_type": "code",
   "execution_count": null,
   "metadata": {},
   "outputs": [],
   "source": [
    "def file_read(fname):\n",
    "        # Your code goes in here\n",
    "        return\n",
    "\n",
    "file_read('test.txt')"
   ]
  },
  {
   "cell_type": "markdown",
   "metadata": {},
   "source": [
    "### Write a Python program to calculate the discriminant value. (b <sup>2</sup> - 4ac)"
   ]
  },
  {
   "cell_type": "code",
   "execution_count": 9,
   "metadata": {},
   "outputs": [
    {
     "name": "stdout",
     "output_type": "stream",
     "text": [
      "The a value: 11\n",
      "The b value: 111\n",
      "The c value: 111\n"
     ]
    }
   ],
   "source": [
    "def discriminant():\n",
    "    a_value = float(input('The a value: '))\n",
    "    b_value = float(input('The b value: '))\n",
    "    c_value = float(input('The c value: '))\n",
    "    \n",
    "    # Calculate the discriminant here\n",
    "    \n",
    "    return # The value\n",
    "\n",
    "\n",
    "discriminant()\n"
   ]
  },
  {
   "cell_type": "code",
   "execution_count": 10,
   "metadata": {},
   "outputs": [
    {
     "name": "stdout",
     "output_type": "stream",
     "text": [
      "Hello World\n"
     ]
    }
   ],
   "source": [
    "print('Hello World')"
   ]
  },
  {
   "cell_type": "code",
   "execution_count": null,
   "metadata": {},
   "outputs": [],
   "source": [
    "print('What am I typing are you able to see?')"
   ]
  },
  {
   "cell_type": "code",
   "execution_count": 3,
   "metadata": {},
   "outputs": [
    {
     "name": "stdout",
     "output_type": "stream",
     "text": [
      "mar\n"
     ]
    }
   ],
   "source": [
    "def reve1(str1):\n",
    "    st2 = ''\n",
    "    index = len(str1)\n",
    "    while index >0:\n",
    "        st2 = st2 + str1[index-1]\n",
    "        index = index -1\n",
    "    return st2\n",
    "\n",
    "print(reve1('ram'))\n"
   ]
  },
  {
   "cell_type": "code",
   "execution_count": null,
   "metadata": {},
   "outputs": [],
   "source": []
  }
 ],
 "metadata": {
  "kernelspec": {
   "display_name": "Python 3",
   "language": "python",
   "name": "python3"
  },
  "language_info": {
   "codemirror_mode": {
    "name": "ipython",
    "version": 3
   },
   "file_extension": ".py",
   "mimetype": "text/x-python",
   "name": "python",
   "nbconvert_exporter": "python",
   "pygments_lexer": "ipython3",
   "version": "3.7.6"
  }
 },
 "nbformat": 4,
 "nbformat_minor": 2
}
